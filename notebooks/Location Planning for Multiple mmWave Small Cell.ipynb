{
 "cells": [
  {
   "cell_type": "markdown",
   "metadata": {},
   "source": [
    "# Automatic Location Planning for Multiple mmWave Small Cells based on SNR Stochastic Gradient Ascent in 3D Ray Tracing Engine."
   ]
  },
  {
   "cell_type": "markdown",
   "metadata": {},
   "source": [
    "## Import libraries"
   ]
  },
  {
   "cell_type": "code",
   "execution_count": 1,
   "metadata": {},
   "outputs": [],
   "source": [
    "import os, sys\n",
    "sys.path.append('..')\n",
    "from main import Env"
   ]
  },
  {
   "cell_type": "code",
   "execution_count": 2,
   "metadata": {},
   "outputs": [],
   "source": [
    "import matplotlib.pyplot as plt\n",
    "from mpl_toolkits import mplot3d"
   ]
  },
  {
   "cell_type": "code",
   "execution_count": 3,
   "metadata": {},
   "outputs": [],
   "source": [
    "import numpy as np\n",
    "np.random.seed(446655)"
   ]
  },
  {
   "cell_type": "code",
   "execution_count": 4,
   "metadata": {},
   "outputs": [],
   "source": [
    "SCENE_PATH = os.path.join(os.getcwd(), \"../obj/poznan.obj\")"
   ]
  },
  {
   "cell_type": "code",
   "execution_count": 5,
   "metadata": {},
   "outputs": [],
   "source": [
    "SCENE_IMG = os.path.join(os.getcwd(), \"../obj/poz.png\")"
   ]
  },
  {
   "cell_type": "markdown",
   "metadata": {},
   "source": [
    "## Connect to the ray tracing engine"
   ]
  },
  {
   "cell_type": "code",
   "execution_count": 6,
   "metadata": {},
   "outputs": [
    {
     "name": "stdout",
     "output_type": "stream",
     "text": [
      "Server: Hello Client\u0000\n"
     ]
    }
   ],
   "source": [
    "env = Env('127.0.0.1', 8877) # connect to local ray tracer\n",
    "env.reset() # reset"
   ]
  },
  {
   "cell_type": "markdown",
   "metadata": {},
   "source": [
    "### Small Cell Variables"
   ]
  },
  {
   "cell_type": "code",
   "execution_count": 7,
   "metadata": {},
   "outputs": [],
   "source": [
    "transmit_power = 24 # == 24 dBm\n",
    "transmit_frequency = 28e9 # == 28 GHz\n",
    "epsilon = 0.001 # small number for gradient calculation"
   ]
  },
  {
   "cell_type": "markdown",
   "metadata": {},
   "source": [
    "### Scene Border"
   ]
  },
  {
   "cell_type": "code",
   "execution_count": 8,
   "metadata": {},
   "outputs": [],
   "source": [
    "min_x = -143.236\n",
    "max_x = 153.955\n",
    "min_z = -140.049\n",
    "max_z = 135.963"
   ]
  },
  {
   "cell_type": "markdown",
   "metadata": {},
   "source": [
    "### Memory of User and Cells"
   ]
  },
  {
   "cell_type": "code",
   "execution_count": 9,
   "metadata": {},
   "outputs": [],
   "source": [
    "Users = []\n",
    "Cells = []"
   ]
  },
  {
   "cell_type": "code",
   "execution_count": 10,
   "metadata": {},
   "outputs": [],
   "source": [
    "class User:\n",
    "    def __init__(self):\n",
    "        self.id = 0;\n",
    "        self.status = {'cell_id':None, 'received_power': None, 'SNR':None}\n",
    "        self.position = []\n",
    "        self.generateUser()\n",
    "        \n",
    "    def calculate(self):\n",
    "        max_rec_power_mW = 0\n",
    "        max_cell_id = 0\n",
    "        all_rec_power_wW = 0;\n",
    "\n",
    "        # Calculate all possibile receive signal from cells\n",
    "        for cell in Cells:\n",
    "            env.com.connect_user_to_station(cell.id, self.id)\n",
    "            info = env.com.ask_user_info(self.id)\n",
    "            if info['result']['total_attenuation'] is None:\n",
    "                continue\n",
    "            env.com.disconnect_user_from_station(cell.id, self.id)\n",
    "            rec_power_dBm = transmit_power + info['result']['total_attenuation'] # attenuation is minus\n",
    "            rec_power_mW = np.power(10,rec_power_dBm/10)\n",
    "            all_rec_power_wW += rec_power_mW\n",
    "            if rec_power_mW > max_rec_power_mW:\n",
    "                max_rec_power_mW = rec_power_mW\n",
    "                max_cell_id = info['station']\n",
    "                \n",
    "        if max_rec_power_mW == 0:\n",
    "            return # cannot find a station\n",
    "        # Conclude the signal result\n",
    "        self.status['cell_id'] = max_cell_id\n",
    "        self.status['received_power'] =  10*np.log10(max_rec_power_mW)\n",
    "        self.status['SNR'] = 10*np.log10( max_rec_power_mW/(all_rec_power_wW-max_rec_power_mW))\n",
    "    \n",
    "    def generateUser(self):\n",
    "        position = [0, -10, 0]\n",
    "        while env.com.is_outdoor(position) is False:\n",
    "            x = np.random.uniform(min_x*2/3,max_x*2/3)\n",
    "            z = np.random.uniform(min_z*2/3,max_z*2/3)\n",
    "            y = np.random.uniform(1.5, 1.8)\n",
    "            position = [x, y, z]\n",
    "        env.com.add_user(position)\n",
    "        self.id = env.com.ask_users_info()[-1]\n",
    "        self.position = position\n"
   ]
  },
  {
   "cell_type": "code",
   "execution_count": 11,
   "metadata": {},
   "outputs": [],
   "source": [
    "class Cell:\n",
    "    def __init__(self):\n",
    "        self.id = 0\n",
    "        self.position = []\n",
    "        self.generateCell()\n",
    "        \n",
    "    def move(self, position):\n",
    "        self.position = position;\n",
    "        env.com.move_station_to(self.id, position, [0.0, 0.0, 0.0])\n",
    "        for user in Users:\n",
    "            user.calculate()\n",
    "        \n",
    "    def generateCell(self):\n",
    "        position = [0, -10, 0]\n",
    "        while env.com.is_outdoor(position) is False:\n",
    "            x = np.random.uniform(min_x/2,max_x/2)\n",
    "            z = np.random.uniform(min_z/2,max_z/2)\n",
    "            y = np.random.uniform(4, 8)\n",
    "            position = [x, y, z]\n",
    "        env.com.add_station(position, [0.0, 0.0, 0.0], transmit_frequency)\n",
    "        self.id = env.com.ask_stations_info()[-1]\n",
    "        self.position = position\n",
    "\n",
    "    def countAvgConnectedSNR(self):\n",
    "        avg_SNR = 0\n",
    "        cnt_user = 0\n",
    "        for user in Users:\n",
    "            if user.status['cell_id'] == self.id:\n",
    "                avg_SNR += user.status['SNR']\n",
    "                cnt_user += 1\n",
    "        if cnt_user == 0:\n",
    "            return None\n",
    "        return avg_SNR/cnt_user\n",
    "\n",
    "    def getXZGradients(self):\n",
    "        current_pos = self.position\n",
    "        x_plus = [current_pos[0]+epsilon, current_pos[1], current_pos[2]]\n",
    "        x_minus = [current_pos[0]-epsilon, current_pos[1], current_pos[2]]\n",
    "        self.move(x_plus)\n",
    "        SNR_x_plus = self.countAvgConnectedSNR()\n",
    "        if SNR_x_plus is None:\n",
    "            self.move(current_pos)\n",
    "            return None, None\n",
    "        self.move(x_minus)\n",
    "        SNR_x_minus = self.countAvgConnectedSNR()\n",
    "        if SNR_x_minus is None:\n",
    "            self.move(current_pos)\n",
    "            return None, None\n",
    "        z_plus = [current_pos[0], current_pos[1], current_pos[2]+epsilon]\n",
    "        z_minus = [current_pos[0], current_pos[1], current_pos[2]-epsilon]\n",
    "        self.move(z_plus)\n",
    "        SNR_z_plus = self.countAvgConnectedSNR()\n",
    "        if SNR_z_plus is None:\n",
    "            self.move(current_pos)\n",
    "            return None, None\n",
    "        self.move(z_minus)\n",
    "        SNR_z_minus = self.countAvgConnectedSNR()\n",
    "        if SNR_z_minus is None:\n",
    "            self.move(current_pos)\n",
    "            return None, None\n",
    "        dx = (SNR_x_plus - SNR_x_minus)/(2*epsilon)\n",
    "        dz = (SNR_z_plus - SNR_z_minus)/(2*epsilon)\n",
    "        return dx, dz"
   ]
  },
  {
   "cell_type": "code",
   "execution_count": 12,
   "metadata": {},
   "outputs": [],
   "source": [
    "def Display3D():\n",
    "    ue_x_list,ue_y_list, ue_z_list = [],[],[]\n",
    "    cell_x_list,cell_y_list, cell_z_list = [],[],[]\n",
    "    \n",
    "    for user in Users:\n",
    "        position = user.position\n",
    "        ue_x_list.append(position[0])\n",
    "        ue_y_list.append(position[1])\n",
    "        ue_z_list.append(position[2])\n",
    "    \n",
    "    for cell in Cells:\n",
    "        position = cell.position\n",
    "        cell_x_list.append(position[0])\n",
    "        cell_y_list.append(position[1])\n",
    "        cell_z_list.append(position[2])\n",
    "        \n",
    "    env.open(SCENE_PATH)\n",
    "    env.visualise(ues = [ue_x_list,ue_y_list, ue_z_list], bss = [cell_x_list,cell_y_list,cell_z_list])"
   ]
  },
  {
   "cell_type": "code",
   "execution_count": 13,
   "metadata": {},
   "outputs": [],
   "source": [
    "def Display2D():\n",
    "    user_x_list, user_z_list = [],[]\n",
    "    cell_x_list, cell_z_list = [],[]\n",
    "    for user in Users:\n",
    "        position = user.position\n",
    "        user_x_list.append(position[0])\n",
    "        user_z_list.append(position[2]*-1) # flip axis\n",
    "    \n",
    "    for cell in Cells:\n",
    "        position = cell.position\n",
    "        cell_x_list.append(position[0])\n",
    "        cell_z_list.append(position[2]*-1) # flip axis\n",
    "    \n",
    "    #fig, ax = plt.subplots()\n",
    "    img = plt.imread(SCENE_IMG)\n",
    "    plt.imshow(img, extent=[min_x, max_x, min_z, max_z])\n",
    "    plt.scatter(user_x_list, user_z_list, c=\"blue\")\n",
    "    plt.scatter(cell_x_list, cell_z_list, c=\"red\")\n",
    "    plt.xlim(min_x, max_x)\n",
    "    plt.ylim(min_z, max_z)\n",
    "    plt.axis('off')"
   ]
  },
  {
   "cell_type": "markdown",
   "metadata": {},
   "source": [
    "## Simulation"
   ]
  },
  {
   "cell_type": "markdown",
   "metadata": {},
   "source": [
    "### Randomly generate users"
   ]
  },
  {
   "cell_type": "code",
   "execution_count": 14,
   "metadata": {},
   "outputs": [],
   "source": [
    "for i in range(25):\n",
    "    Users.append(User())"
   ]
  },
  {
   "cell_type": "markdown",
   "metadata": {},
   "source": [
    "### Randomly generate cells"
   ]
  },
  {
   "cell_type": "code",
   "execution_count": 15,
   "metadata": {
    "scrolled": true
   },
   "outputs": [],
   "source": [
    "for i in range(6):\n",
    "    Cells.append(Cell())"
   ]
  },
  {
   "cell_type": "markdown",
   "metadata": {},
   "source": [
    "### Check users and cells on map"
   ]
  },
  {
   "cell_type": "code",
   "execution_count": null,
   "metadata": {},
   "outputs": [],
   "source": [
    "Display2D()"
   ]
  },
  {
   "cell_type": "code",
   "execution_count": 16,
   "metadata": {
    "scrolled": true
   },
   "outputs": [
    {
     "data": {
      "text/plain": [
       "(0.06740000000249324, 0.01654999999800566)"
      ]
     },
     "execution_count": 16,
     "metadata": {},
     "output_type": "execute_result"
    }
   ],
   "source": [
    "Cells[0].getXZGradients()"
   ]
  },
  {
   "cell_type": "code",
   "execution_count": null,
   "metadata": {},
   "outputs": [],
   "source": [
    "Users[0].calculate()"
   ]
  },
  {
   "cell_type": "code",
   "execution_count": null,
   "metadata": {
    "scrolled": true
   },
   "outputs": [],
   "source": [
    "Users[0].status"
   ]
  },
  {
   "cell_type": "code",
   "execution_count": null,
   "metadata": {},
   "outputs": [],
   "source": [
    "env.com.ask_station_info(Cells[0].id)"
   ]
  },
  {
   "cell_type": "code",
   "execution_count": null,
   "metadata": {
    "scrolled": true
   },
   "outputs": [],
   "source": [
    "#Display3D() # Problem with 3D from ipyvolumn is lagging the browser"
   ]
  },
  {
   "cell_type": "code",
   "execution_count": null,
   "metadata": {},
   "outputs": [],
   "source": [
    "np.power(10,2)"
   ]
  },
  {
   "cell_type": "code",
   "execution_count": null,
   "metadata": {},
   "outputs": [],
   "source": [
    "for ue in Users:\n",
    "    ue.calculate()\n",
    "    print(ue.status)"
   ]
  },
  {
   "cell_type": "code",
   "execution_count": null,
   "metadata": {},
   "outputs": [],
   "source": [
    "env.disconnect()"
   ]
  },
  {
   "cell_type": "code",
   "execution_count": null,
   "metadata": {},
   "outputs": [],
   "source": [
    "a, b = None, None"
   ]
  },
  {
   "cell_type": "code",
   "execution_count": null,
   "metadata": {},
   "outputs": [],
   "source": []
  }
 ],
 "metadata": {
  "kernelspec": {
   "display_name": "Python 3",
   "language": "python",
   "name": "python3"
  },
  "language_info": {
   "codemirror_mode": {
    "name": "ipython",
    "version": 3
   },
   "file_extension": ".py",
   "mimetype": "text/x-python",
   "name": "python",
   "nbconvert_exporter": "python",
   "pygments_lexer": "ipython3",
   "version": "3.8.5"
  }
 },
 "nbformat": 4,
 "nbformat_minor": 4
}
